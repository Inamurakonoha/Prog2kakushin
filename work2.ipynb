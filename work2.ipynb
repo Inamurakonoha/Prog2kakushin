{
  "nbformat": 4,
  "nbformat_minor": 0,
  "metadata": {
    "colab": {
      "provenance": [],
      "authorship_tag": "ABX9TyOZAdOIP0WyHPXNKhTuGDeL",
      "include_colab_link": true
    },
    "kernelspec": {
      "name": "python3",
      "display_name": "Python 3"
    },
    "language_info": {
      "name": "python"
    }
  },
  "cells": [
    {
      "cell_type": "markdown",
      "metadata": {
        "id": "view-in-github",
        "colab_type": "text"
      },
      "source": [
        "<a href=\"https://colab.research.google.com/github/Inamurakonoha/Prog2kakushin/blob/main/work2.ipynb\" target=\"_parent\"><img src=\"https://colab.research.google.com/assets/colab-badge.svg\" alt=\"Open In Colab\"/></a>"
      ]
    },
    {
      "cell_type": "markdown",
      "source": [
        "numpyを用いて、処理とそれに対応する番号を用意しておき、入力された番号の処理を大きな行列に対して行う。"
      ],
      "metadata": {
        "id": "88vuIlYJGTcl"
      }
    },
    {
      "cell_type": "code",
      "execution_count": 2,
      "metadata": {
        "id": "hgU3R5AyGPBj"
      },
      "outputs": [],
      "source": [
        "import numpy as np\n",
        "import IPython\n",
        "from random import randint\n",
        "\n",
        "#定数\n",
        "A = 0.5     #音の大きさ\n",
        "Fs = 48000  #48kHz 1秒間におけるデータ数\n",
        "d_t = 1.0   #音の長さ\n",
        "\n",
        "TONES = {\n",
        "    \"A\":440.0,\n",
        "    \"B\":493.9,\n",
        "    \"C\":523.3,\n",
        "    \"D\":587.3,\n",
        "    \"E\":659.3,\n",
        "    \"F\":698.5,\n",
        "    \"G\":784.0\n",
        "    }\n",
        "list = [\"A\",\"B\",\"C\",\"D\",\"E\",\"F\",\"G\"]\n",
        "\n",
        "while True :\n",
        "   num = randint(0,6)\n",
        "   tone = list[num]\n",
        "   f = TONES[tone]\n",
        "\n",
        "   t = np.linspace(0.,d_t,int(Fs*d_t))\n",
        "   y = A * np.sin(2.0*np.pi*f*t)\n",
        "   IPython.display.Audio(y,rate=Fs,autoplay=True)\n",
        "\n",
        "   ans = input(\"正解だと思う音を入力\")\n",
        "\n",
        "   print(\"----------------------\")\n",
        "   print(\"   入力値      音階\")\n",
        "   print(\"      A          ラ \")\n",
        "   print(\"      B          シ\")\n",
        "   print(\"      C          ド\")\n",
        "   print(\"      D          レ\")\n",
        "   print(\"      E          ミ\")\n",
        "   print(\"      F         ファ\")\n",
        "   print(\"      G          ソ\")\n",
        "   print(\"----------------------\")\n",
        "\n",
        "\n",
        "\n",
        ""
      ]
    }
  ]
}