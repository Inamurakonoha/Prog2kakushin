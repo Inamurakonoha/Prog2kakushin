{
  "nbformat": 4,
  "nbformat_minor": 0,
  "metadata": {
    "colab": {
      "provenance": [],
      "authorship_tag": "ABX9TyN53z80LUQ9Sy4kYGnSeRiB",
      "include_colab_link": true
    },
    "kernelspec": {
      "name": "python3",
      "display_name": "Python 3"
    },
    "language_info": {
      "name": "python"
    }
  },
  "cells": [
    {
      "cell_type": "markdown",
      "metadata": {
        "id": "view-in-github",
        "colab_type": "text"
      },
      "source": [
        "<a href=\"https://colab.research.google.com/github/Inamurakonoha/Prog2kakushin/blob/main/work3.ipynb\" target=\"_parent\"><img src=\"https://colab.research.google.com/assets/colab-badge.svg\" alt=\"Open In Colab\"/></a>"
      ]
    },
    {
      "cell_type": "markdown",
      "source": [
        "##色当て\n",
        "表示された色の中から異なる色を持つ場所をさがす"
      ],
      "metadata": {
        "id": "ZvcdZX3jMYbw"
      }
    },
    {
      "cell_type": "markdown",
      "source": [
        "##□"
      ],
      "metadata": {
        "id": "tVhgHifQZ3Ft"
      }
    },
    {
      "cell_type": "code",
      "execution_count": 108,
      "metadata": {
        "id": "lfC1SqfpC1a6",
        "colab": {
          "base_uri": "https://localhost:8080/",
          "height": 1000
        },
        "outputId": "f5111826-3227-491a-83dd-d8137e9b8026"
      },
      "outputs": [
        {
          "output_type": "stream",
          "name": "stdout",
          "text": [
            "-------------\n",
            "\n",
            "　 難易度　\n",
            "\n",
            " 1 : 易しい\n",
            " 2 : ふつう\n",
            " 3 : 難しい\n",
            "\n",
            "-------------\n",
            "\n",
            "難易度に対応した数字を入力　:3\n",
            "\n",
            "\n",
            "\n",
            "-------------------\n",
            "\n",
            "　       色　\n",
            "\n",
            " red :　　　　  赤\n",
            " green :  　　　緑\n",
            " blue :   　　　青\n",
            " purple : 　　  紫\n",
            " yellow : 　　 黄色\n",
            " lightblue  :  水色\n",
            " white :        白\n",
            " black :        黒\n",
            "\n",
            "---------------------\n",
            "\n",
            "色に対応した英語を入力 :yellow\n",
            "\n",
            "\n",
            "行数を入力：3\n",
            "\n",
            "列数を入力：3\n",
            "\n"
          ]
        },
        {
          "output_type": "display_data",
          "data": {
            "text/plain": [
              "<PIL.Image.Image image mode=RGB size=300x300>"
            ],
            "image/png": "[encoded data removed]"
          },
          "metadata": {}
        },
        {
          "output_type": "stream",
          "name": "stdout",
          "text": [
            "行数を入力 :2\n",
            "列数を入力 :3\n",
            "\n",
            "正解\n"
          ]
        }
      ],
      "source": [
        "import numpy as np\n",
        "import cv2\n",
        "from google.colab.patches import cv2_imshow\n",
        "from random import randint\n",
        "\n",
        "beg = 40\n",
        "inte = 20\n",
        "adv = 8\n",
        "\n",
        "print(\"-------------\")\n",
        "print()\n",
        "print(\"　 難易度　\")\n",
        "print()\n",
        "print(\" 1 : 易しい\")\n",
        "print(\" 2 : ふつう\")\n",
        "print(\" 3 : 難しい\")\n",
        "print()\n",
        "print(\"-------------\")\n",
        "print()\n",
        "\n",
        "while True :\n",
        " level = int(input(\"難易度に対応した数字を入力　:\"))\n",
        " print()\n",
        " print()\n",
        " if 1 <= level <= 3 :\n",
        "   if level == 1 :\n",
        "     er = beg\n",
        "     break\n",
        "   elif level == 2 :\n",
        "     er = inte\n",
        "     break\n",
        "   elif level == 3 :\n",
        "     er = adv\n",
        "     break\n",
        " else :\n",
        "    print()\n",
        "    print(\"この文字には対応していません\")\n",
        "    print(\"もう一度入力しなおしてください\")\n",
        "    print()\n",
        "    continue\n",
        "print()\n",
        "\n",
        "color = { \"red\":(0,0,255) , \"green\":(0,255,0), \"blue\":(255,0,0), \"purple\":(255,0,255), \"yellow\":(0,255,255), \"lightblue\":(255,255,0), \"white\":(255,255,255), \"black\":(0,0,0) }\n",
        "color2 = { \"red\":(0,0,255-er) , \"green\":(0,255-er,0), \"blue\":(255-er,0,0),\"purple\":(255,0,255-er), \"yellow\":(0,255,255-er), \"lightblue\":(255-er,255-er,0),\"white\":(255-er,255,255), \"black\":(0+er,0+er,0+er) }\n",
        "\n",
        "print(\"-------------------\")\n",
        "print()\n",
        "print(\"　       色　\")\n",
        "print()\n",
        "print(\" red :　　　　  赤\")\n",
        "print(\" green :  　　　緑\")\n",
        "print(\" blue :   　　　青\")\n",
        "print(\" purple : 　　  紫\")\n",
        "print(\" yellow : 　　 黄色\")\n",
        "print(\" lightblue  :  水色\")\n",
        "print(\" white :        白\")\n",
        "print(\" black :        黒\")\n",
        "print()\n",
        "print(\"---------------------\")\n",
        "print()\n",
        "\n",
        "while True :\n",
        " cl = input(\"色に対応した英語を入力 :\")\n",
        " if cl not in color :\n",
        "   print()\n",
        "   print(\"この文字には対応していません\")\n",
        "   print(\"もう一度入力しなおしてください\")\n",
        "   print()\n",
        "   continue\n",
        " else :\n",
        "  break\n",
        "\n",
        "cl2 = color[cl]\n",
        "cl3 = color2[cl]\n",
        "\n",
        "\n",
        "print()\n",
        "print()\n",
        "m = int(input(\"行数を入力：\"))\n",
        "print()\n",
        "n = int(input(\"列数を入力：\"))\n",
        "\n",
        "img1 = np.zeros( (100*m,100*n,3),np.uint8)\n",
        "\n",
        "for i in range(m) :\n",
        "  for j in range(n) :\n",
        "    x = 100*j\n",
        "    y = 100*i\n",
        "    cv2.rectangle(img1 ,(x,y),(x+100,y+100),color=cl2,thickness=-1)\n",
        "    if cl == \"white\" :\n",
        "     cv2.rectangle(img1 ,(x,y),(x+100,y+100),color=(0,0,0),thickness=1)\n",
        "    else :\n",
        "      cv2.rectangle(img1 ,(x,y),(x+100,y+100),color=(255,255,255),thickness=1)\n",
        "\n",
        "a = randint(0,m-1)\n",
        "b = randint(0,n-1)\n",
        "\n",
        "a2 = 100*a\n",
        "b2 = 100*b\n",
        "\n",
        "cv2.rectangle(img1 ,(b2,a2),(b2+100,a2+100),color=cl3,thickness=-1)\n",
        "if cl == \"white\" :\n",
        " cv2.rectangle(img1 ,(b2,a2),(b2+100,a2+100),color=(0,0,0),thickness=1)\n",
        "else :\n",
        "  cv2.rectangle(img1 ,(b2,a2),(b2+100,a2+100),color=(255,255,255),thickness=1)\n",
        "\n",
        "print()\n",
        "cv2_imshow(img1)\n",
        "\n",
        "#回答\n",
        "ans1 = int(input(\"行数を入力 :\"))\n",
        "ans2 = int(input(\"列数を入力 :\"))\n",
        "print()\n",
        "\n",
        "if ans1 == a+1 :\n",
        "  if ans2 == b+1 :\n",
        "    print(\"正解\")\n",
        "  else :\n",
        "    print(\"不正解\")\n",
        "    print(\"正解は,行数\"+str(a+1)+\",列数\"+str(b+1))\n",
        "else :\n",
        "  print(\"不正解\")\n",
        "  print(\"正解は,行数\"+str(a+1)+\",列数\"+str(b+1))\n"
      ]
    },
    {
      "cell_type": "markdown",
      "source": [
        "##→"
      ],
      "metadata": {
        "id": "POfVhLmPZw2p"
      }
    },
    {
      "cell_type": "code",
      "source": [
        "num = int(input(\"本数を入力 :\"))\n",
        "img3 = np.zeros((num*100,100,3),np.uint8)\n",
        "\n",
        "beg = 40\n",
        "inte = 20\n",
        "adv = 8\n",
        "\n",
        "print(\"-------------\")\n",
        "print()\n",
        "print(\"　 難易度　\")\n",
        "print()\n",
        "print(\" 1 : 易しい\")\n",
        "print(\" 2 : ふつう\")\n",
        "print(\" 3 : 難しい\")\n",
        "print()\n",
        "print(\"-------------\")\n",
        "print()\n",
        "\n",
        "while True :\n",
        " level = int(input(\"難易度に対応した数字を入力　:\"))\n",
        " print()\n",
        " print()\n",
        " if 1 <= level <= 3 :\n",
        "   if level == 1 :\n",
        "     er = beg\n",
        "     break\n",
        "   elif level == 2 :\n",
        "     er = inte\n",
        "     break\n",
        "   elif level == 3 :\n",
        "     er = adv\n",
        "     break\n",
        " else :\n",
        "    print()\n",
        "    print(\"この文字には対応していません\")\n",
        "    print(\"もう一度入力しなおしてください\")\n",
        "    print()\n",
        "    continue\n",
        "print()\n",
        "\n",
        "color = { \"red\":(0,0,255) , \"green\":(0,255,0), \"blue\":(255,0,0), \"purple\":(255,0,255), \"yellow\":(0,255,255), \"lightblue\":(255,255,0), \"white\":(255,255,255)}\n",
        "color2 = { \"red\":(0,0,255-er) , \"green\":(0,255-er,0), \"blue\":(255-er,0,0),\"purple\":(255,0,255-er), \"yellow\":(0,255,255-er), \"lightblue\":(255-er,255-er,0),\"white\":(255-er,255,255)}\n",
        "\n",
        "print(\"-------------------\")\n",
        "print()\n",
        "print(\"　       色　\")\n",
        "print()\n",
        "print(\" red :　　　　  赤\")\n",
        "print(\" green :  　　　緑\")\n",
        "print(\" blue :   　　　青\")\n",
        "print(\" purple : 　　  紫\")\n",
        "print(\" yellow : 　　 黄色\")\n",
        "print(\" lightblue  :  水色\")\n",
        "print(\" white :        白\")\n",
        "print()\n",
        "print(\"---------------------\")\n",
        "print()\n",
        "\n",
        "while True :\n",
        " cl = input(\"色に対応した英語を入力 :\")\n",
        " if cl not in color :\n",
        "   print()\n",
        "   print(\"この文字には対応していません\")\n",
        "   print(\"もう一度入力しなおしてください\")\n",
        "   print()\n",
        "   continue\n",
        " else :\n",
        "  break\n",
        "print()\n",
        "\n",
        "cl2 = color[cl]\n",
        "cl3 = color2[cl]\n",
        "\n",
        "for i in range(num):\n",
        "  y = (100*i)+50\n",
        "  cv2.arrowedLine(img3,(20,y),(80,y),color=cl2,thickness=5)\n",
        "\n",
        "\n",
        "r = randint(0,num-1)\n",
        "y = (100*r)+50\n",
        "cv2.arrowedLine(img3,(20,y),(80,y),color=cl3,thickness=5)\n",
        "\n",
        "\n",
        "cv2_imshow(img3)\n",
        "\n",
        "\n",
        "ans1 = int(input(\"上から何本目？：\"))\n",
        "\n",
        "if ans1 == r+1:\n",
        "  print(\"正解\")\n",
        "else :\n",
        "  print(\"不正解\")\n",
        "  print(\"正解は\"+str(r+1)+\"本目\")"
      ],
      "metadata": {
        "colab": {
          "base_uri": "https://localhost:8080/",
          "height": 1000
        },
        "id": "aY1fXZCiSQQt",
        "outputId": "eb6ca015-aeb1-4cbb-ed98-84029d0f72de"
      },
      "execution_count": 112,
      "outputs": [
        {
          "output_type": "stream",
          "name": "stdout",
          "text": [
            "本数を入力 :6\n",
            "-------------\n",
            "\n",
            "　 難易度　\n",
            "\n",
            " 1 : 易しい\n",
            " 2 : ふつう\n",
            " 3 : 難しい\n",
            "\n",
            "-------------\n",
            "\n",
            "難易度に対応した数字を入力　:3\n",
            "\n",
            "\n",
            "\n",
            "-------------------\n",
            "\n",
            "　       色　\n",
            "\n",
            " red :　　　　  赤\n",
            " green :  　　　緑\n",
            " blue :   　　　青\n",
            " purple : 　　  紫\n",
            " yellow : 　　 黄色\n",
            " lightblue  :  水色\n",
            " white :        白\n",
            "\n",
            "---------------------\n",
            "\n",
            "色に対応した英語を入力 :white\n",
            "\n"
          ]
        },
        {
          "output_type": "display_data",
          "data": {
            "text/plain": [
              "<PIL.Image.Image image mode=RGB size=100x600>"
            ],
            "image/png": "[encoded data removed]"
          },
          "metadata": {}
        },
        {
          "output_type": "stream",
          "name": "stdout",
          "text": [
            "上から何本目？：5\n",
            "不正解\n",
            "正解は2本目\n"
          ]
        }
      ]
    }
  ]
}